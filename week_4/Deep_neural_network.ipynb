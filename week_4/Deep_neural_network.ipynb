{
 "cells": [
  {
   "cell_type": "code",
   "execution_count": 4,
   "id": "9b476ad7-a4ad-4b6e-b572-c03d212c043b",
   "metadata": {},
   "outputs": [],
   "source": [
    "import numpy as np\n",
    "import matplotlib.pyplot as plt\n",
    "from dnn_utils_v2 import sigmoid, relu, relu_backward, sigmoid_backward\n",
    "import testcases_v4a\n",
    "np.random.seed(1)"
   ]
  },
  {
   "cell_type": "code",
   "execution_count": 6,
   "id": "5e264e4b-cab5-4265-8ca0-8422a8426f8c",
   "metadata": {},
   "outputs": [],
   "source": [
    "#Initialises the parameters for 'l' layers\n",
    "#If hidden layer is an array of hidden units such as [1, 2, 3, 4]\n",
    "def initialize(hl):\n",
    "    #hl[i-1] is the dimension of A(l-1) layer A(l-1).shape[0]\n",
    "    #hl[i] is the dimension of A(l) layer A(l).shape[0]\n",
    "    w = []\n",
    "    b = []\n",
    "\n",
    "    for i in range(1, len(hl)):\n",
    "        w.append(np.random.rand(hl[i-1], hl[i]) * 0.01)\n",
    "        b.append(np.random.rand(hl[i], 1))\n",
    "\n",
    "    parameters = {\"w\": w, \"b\": b}\n",
    "\n",
    "    return parameters"
   ]
  },
  {
   "cell_type": "code",
   "execution_count": 7,
   "id": "493cd3a0-4b71-4b4b-9206-5d5f0093b5ae",
   "metadata": {},
   "outputs": [],
   "source": [
    "#Forward Propagation\n",
    "def forward_propagation(X, parameters, hl):\n",
    "    w, b = parameters[\"w\"], parameters[\"b\"]\n",
    "\n",
    "    A_x = X\n",
    "    A = []\n",
    "    A.append(A_x)\n",
    "    Z = []\n",
    "\n",
    "    #Compute the values of Z and A and store it in cache\n",
    "    for i in range(hl):\n",
    "        z = np.dot(w[i], A) + b[i]\n",
    "        assert(z.shape == (w[i].shape[0] , A_x.shape[1]))\n",
    "        Z.append(z)\n",
    "        a = relu(Z)\n",
    "        assert(a.shape == (w[i].shape[0] , A_x.shape[1]))\n",
    "        A.append(a)\n",
    "\n",
    "    cache = {\"Z\": Z, \"A\": A}\n",
    "    return cache"
   ]
  },
  {
   "cell_type": "code",
   "execution_count": 8,
   "id": "192e81b6-8376-4b52-8101-1e4876fad76f",
   "metadata": {},
   "outputs": [],
   "source": [
    "#Compute Cost Function\n",
    "def compute_function(X, Y, hl):\n",
    "\n",
    "    #Initialise the parameters\n",
    "    parameters = initialize(hl)\n",
    "\n",
    "    #Use Forward Propagation\n",
    "    cache = forward_propagation(X, parameters, hl)\n",
    "\n",
    "    #Retrieve the last A which is the output\n",
    "    An = A[len(A) - 1]\n",
    "\n",
    "    #Compute the cost function\n",
    "    cost = -1/m * np.sum(np.multiply(Y ,np.log(An)) + np.multiply((1-Y), np.log(1-An)))\n",
    "\n",
    "    return cost"
   ]
  },
  {
   "cell_type": "code",
   "execution_count": null,
   "id": "2a5c3419-46b4-471e-9c64-0a32c8f72e12",
   "metadata": {},
   "outputs": [],
   "source": [
    "#Implementing the backward propagation\n",
    "def backward_propagation():\n",
    "    "
   ]
  }
 ],
 "metadata": {
  "kernelspec": {
   "display_name": "Python 3 (ipykernel)",
   "language": "python",
   "name": "python3"
  },
  "language_info": {
   "codemirror_mode": {
    "name": "ipython",
    "version": 3
   },
   "file_extension": ".py",
   "mimetype": "text/x-python",
   "name": "python",
   "nbconvert_exporter": "python",
   "pygments_lexer": "ipython3",
   "version": "3.11.6"
  }
 },
 "nbformat": 4,
 "nbformat_minor": 5
}
